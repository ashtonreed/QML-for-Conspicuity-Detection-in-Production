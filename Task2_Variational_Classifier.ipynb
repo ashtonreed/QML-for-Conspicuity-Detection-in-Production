{
  "cells": [
    {
      "cell_type": "markdown",
      "source": [
        "# Variational Classifier"
      ],
      "metadata": {
        "id": "4MdOxRe1p2EX"
      }
    },
    {
      "cell_type": "markdown",
      "metadata": {
        "id": "Uo116amjLq2n"
      },
      "source": [
        "The original tutorial for this notebook can be found here: https://pennylane.ai/qml/demos/tutorial_variational_classifier/\n",
        "\n"
      ]
    },
    {
      "cell_type": "markdown",
      "metadata": {
        "id": "Mz_zAv8XMTC1"
      },
      "source": [
        "## Intro"
      ]
    },
    {
      "cell_type": "markdown",
      "metadata": {
        "id": "lPx-Nx4ubzU5"
      },
      "source": [
        "### Variational Quantum Classifiers (VQCs)\n",
        "\n",
        "Variational Quantum Classifiers (VQCs) are a type of hybrid quantum machine learning algorithm that combines the power of quantum computing with the flexibility of classical machine learning algorithms to achieve state-of-the-art performance on a wide range of classification tasks.\n",
        "They are a class of quantum algorithms that use a variational approach to optimize a quantum circuit for a specific machine learning task, and have been shown to be effective in a variety of applications, including image classification, natural language processing, and more."
      ]
    },
    {
      "cell_type": "markdown",
      "metadata": {
        "id": "w1XviL20fJrj"
      },
      "source": [
        "### How VQCs Work\n",
        "\n",
        "A VQC consists of two parts: a classical part for pre- and post-processing data, and a quantum part for harnessing the power of quantum mechanics to perform certain calculations more efficiently. The quantum part is composed of a quantum circuit that behaves similarly to a traditional machine learning algorithm and these are done by some steps\n"
      ]
    },
    {
      "cell_type": "markdown",
      "metadata": {
        "id": "mGyUBxi8fr7L"
      },
      "source": [
        "#### Step 1: Encode Classical Data into a Quantum State\n",
        "\n",
        "To encode classical data into a quantum state, we perform certain operations to help us work with the data in quantum circuits. One of the steps is called data embedding, which is the representation of classical data as a quantum state in Hilbert space via a quantum feature map.\n",
        "\n",
        "Angle Encoding: One common method is angle encoding, where classical features are mapped to the angles of rotation gates applied to qubits.\n",
        "Example: For a data vector\n",
        "$x$ with features $x_1, x_2, ... x_n$, we encode these features into quantum states using rotation gates. If we have a qubit, we apply a rotation\n",
        "$Rx(\\theta)$ where \\\n",
        "$\\theta = x*i*\\textrm{scaling factor} $. \\\n",
        "The quantum state\n",
        "$|\\psi⟩$ is then prepared as: \\\n",
        "$|\\psi⟩ = Rx(\\theta_1) Ry(\\theta_2) ... Rz(\\theta_n)|0⟩$. \\\n",
        "Here, $|0⟩$ is the initial state of the qubit, and $Rx, Ry, Rz$ are rotation operators applied to the qubit."
      ]
    },
    {
      "cell_type": "markdown",
      "source": [
        "#### Step 2: Input Data into a Quantum Circuit\n",
        "\n",
        "After encoding, a parameterized quantum circuit processes the quantum state. The circuit consists of various quantum gates such as Hadamard, CNOT, and rotation gates. The parameters of these gates are optimized during training.\n",
        "Quantum State Evolution: The quantum state evolves according to the unitary transformations defined by the quantum circuit. If $U(\\theta)$ represents the unitary operation parameterized by $\\theta$, the state after applying the circuit is:\n",
        "$|\\psi(\\theta)⟩ = U(\\theta)|\\psi⟩$ where $|\\psi⟩$ is the encoded state."
      ],
      "metadata": {
        "id": "12y9WqtidCeA"
      }
    },
    {
      "cell_type": "markdown",
      "metadata": {
        "id": "Rt8DfL8Dl8ws"
      },
      "source": [
        "#### Step 3: Apply a Parameterized Model\n",
        "\n",
        "The goal of the training phase is to find a set of parameters that maximizes the accuracy of the classification model. In the classifying phase, the encoded quantum state will evolve through the well-trained ansatz $W(\\theta)$ with optimized variational parameters $\\theta$.\n",
        "\n",
        "**The Cost Function and Measurement:**\n",
        "\n",
        "The cost function measures how well the quantum classifier performs. It typically involves:\n",
        "\n",
        "Expectation Value:\n",
        "\n",
        "Quantum measurements provide expectation values that are used to estimate probabilities. For a quantum observable ${\\hat{O}}$, the expectation value is given by:\n",
        "$⟨\\psi(\\theta)|{\\hat{O}}|\\psi(\\theta)⟩$.\n",
        "This value represents the probability of measuring a particular outcome related to the observable ${\\hat{O}}$.\n",
        "\n",
        "The loss function (or cost function) quantifies the difference between the predicted and true labels. For classification tasks, the cross-entropy loss is often used."
      ]
    },
    {
      "cell_type": "markdown",
      "source": [
        "#### Step 4: Parameter Optimization\n",
        "\n",
        "The goal is to find the optimal parameters $\\theta$ that minimize the cost function. This is typically done using classical optimization techniques.\n",
        "Gradient-Based Optimization: Gradients of the cost function with respect to the parameters $\\theta$ are computed to update the parameters. This can be done using methods like gradient descent or more advanced algorithms.\n",
        "\n",
        "Parameter Shift Rule: A common method to compute gradients in quantum circuits is the parameter shift rule. For a parameterized gate $U(\\theta)$, the derivative of the cost function $L(\\theta)$ with respect to $\\theta$ can be estimated as:\n",
        "$\\delta L(\\theta)\\delta\\theta \\approx L(\\theta+\\delta) - L(\\theta-\\delta)2\\delta$ \\\n",
        "where $\\delta$ is a small shift value."
      ],
      "metadata": {
        "id": "qXdoRaCcPepP"
      }
    },
    {
      "cell_type": "markdown",
      "metadata": {
        "id": "dIkUQ1f6pjX9"
      },
      "source": [
        "\n",
        "\n",
        "**Training:**\n",
        "\n",
        "The optimization algorithm iteratively adjusts the parameters to minimize the cost function. This process continues until convergence."
      ]
    },
    {
      "cell_type": "markdown",
      "metadata": {
        "id": "deLiHFTVDIvp"
      },
      "source": [
        "**Now we will do these steps using VQCs with a real world data**"
      ]
    },
    {
      "cell_type": "markdown",
      "metadata": {
        "id": "TIvlHvU6O6fP"
      },
      "source": [
        "In this notebook, we will reference a few different datasets it some of the code blocks below. These datasets can be found in the \"variational_classifier/data\" folder, which is also in this repo."
      ]
    },
    {
      "cell_type": "markdown",
      "source": [
        "## 1. Fitting the parity function"
      ],
      "metadata": {
        "id": "6G9DkvCkiCd3"
      }
    },
    {
      "cell_type": "markdown",
      "metadata": {
        "id": "_f56LFGDPcPt"
      },
      "source": [
        "## Setup"
      ]
    },
    {
      "cell_type": "markdown",
      "source": [
        "Uncomment the line below to install pennylane if it is not already on your machine."
      ],
      "metadata": {
        "id": "-gjTmiG_U0H9"
      }
    },
    {
      "cell_type": "code",
      "execution_count": 50,
      "metadata": {
        "id": "sSrDfV1-Ps6l"
      },
      "outputs": [],
      "source": [
        "# !pip install pennylane"
      ]
    },
    {
      "cell_type": "markdown",
      "metadata": {
        "id": "AX0eqDazcd5W"
      },
      "source": [
        "##Imports"
      ]
    },
    {
      "cell_type": "code",
      "source": [
        "# PennyLane import\n",
        "import pennylane as qml\n",
        "from pennylane import numpy as np\n",
        "from pennylane.optimize import NesterovMomentumOptimizer\n",
        "\n",
        "# MatPlotLib import\n",
        "import matplotlib.pyplot as plt"
      ],
      "metadata": {
        "id": "eL1Is_RDgIsB"
      },
      "execution_count": 18,
      "outputs": []
    },
    {
      "cell_type": "markdown",
      "metadata": {
        "id": "8-SSU05kQI8P"
      },
      "source": [
        "##Defining the Quantum Circuit"
      ]
    },
    {
      "cell_type": "markdown",
      "source": [
        "We will begin by creating a quantum device on which to run our circuits."
      ],
      "metadata": {
        "id": "MEo4ecGPtDli"
      }
    },
    {
      "cell_type": "code",
      "execution_count": 19,
      "metadata": {
        "id": "ZhQVaIaUFUZD"
      },
      "outputs": [],
      "source": [
        "# Set up the quantum device (PennyLane simulator in our case)\n",
        "dev = qml.device(\"default.qubit\", wires=4)"
      ]
    },
    {
      "cell_type": "markdown",
      "metadata": {
        "id": "i3fHdB-DdODb"
      },
      "source": [
        "##Defining the Variational Quantum Classifier"
      ]
    },
    {
      "cell_type": "code",
      "execution_count": null,
      "metadata": {
        "id": "BkPDwc9ZdUhe"
      },
      "outputs": [],
      "source": [
        "# Define the variational classifier function\n",
        "def variational_classifier(weights, x):\n",
        "    return circuit(weights, x)"
      ]
    },
    {
      "cell_type": "markdown",
      "metadata": {
        "id": "cvpggZb9F8fm"
      },
      "source": [
        "##Quantum and Classical Nodes\n"
      ]
    },
    {
      "cell_type": "markdown",
      "metadata": {
        "id": "nsa6nqSSDdU5"
      },
      "source": [
        "Variational classifiers define an elementary circuit architecture that gets repeated to build the full variational circuit as a \"layer\" or \"block\".\n",
        "\n",
        "The circuit we demonstrate in this tutorial will be composed of four qubits (referred to as \"wires\" in the code) and will also consist of an arbitrary rotation on each qubit/\"wire\", accompanied by a ring of CNOTs to entangle each qubit with its neighbor. The layers are composed of parameters, which are referred to as \"weights\"."
      ]
    },
    {
      "cell_type": "code",
      "execution_count": 20,
      "metadata": {
        "id": "_q2jtSWbGWYG"
      },
      "outputs": [],
      "source": [
        "# Taking in the weights for input, define the layers by applying a rotation of that \"weight\" to the associated qubit\n",
        "def layer(layer_weights):\n",
        "    for wire in range(4):\n",
        "        qml.Rot(*layer_weights[wire], wires=wire)\n",
        "\n",
        "    # Apply a \"ring\" of CNOT gates to entangle the qubits\n",
        "    for wires in ([0, 1], [1, 2], [2, 3], [3, 0]):\n",
        "        qml.CNOT(wires)"
      ]
    },
    {
      "cell_type": "markdown",
      "metadata": {
        "id": "OAtoW-2lGPnc"
      },
      "source": [
        "In addition to these layers and weights, we need a way to encode data inputs into the circuit so that the measured output is dependent upon these inputs. Because the inputs are bitstrings in our first example, we will encode them into the state of qubits. After preparing our states, the quantum state we end up with, $|\\psi⟩$, is a computational basis state that has 1s in the same location the bitstring x does:\n",
        "$x=0101 \\rightarrow |\\psi⟩=|0101⟩$\n",
        "\n",
        "PennyLane provides us with a \"BasisState\" function, which does exactly this, interpreting x as a list of zeros and ones and mapping them to their respective qubits."
      ]
    },
    {
      "cell_type": "code",
      "execution_count": 21,
      "metadata": {
        "id": "ICyZHHdvGtlH"
      },
      "outputs": [],
      "source": [
        "# Define BasisState preparation function\n",
        "def state_preparation(x):\n",
        "    qml.BasisState(x, wires=[0, 1, 2, 3])"
      ]
    },
    {
      "cell_type": "markdown",
      "metadata": {
        "id": "MTAOvz_3GPjm"
      },
      "source": [
        "We define our variational quantum circuit as the state preparation routine defined above, followed by a repetition of the layer structure, factoring in the weight associated with each layer."
      ]
    },
    {
      "cell_type": "code",
      "execution_count": 22,
      "metadata": {
        "id": "kSbFk0KjG5IO"
      },
      "outputs": [],
      "source": [
        "# Establish a QNode to be associated with our [simulator] device\n",
        "@qml.qnode(dev)\n",
        "# Define circuit function to include state preparation utilizing layer weights and output expectation value\n",
        "def circuit(weights, x):\n",
        "    state_preparation(x)\n",
        "\n",
        "    for layer_weights in weights:\n",
        "        layer(layer_weights)\n",
        "\n",
        "    return qml.expval(qml.PauliZ(0))"
      ]
    },
    {
      "cell_type": "markdown",
      "metadata": {
        "id": "RB0Ze0KzRKq9"
      },
      "source": [
        "To add a \"classical\" bias parameter to our variational quantum classifier, we'll also add in some post-processing before defining the full model as the sum of the quantum circuit's output, plus the trainable bias."
      ]
    },
    {
      "cell_type": "code",
      "execution_count": 23,
      "metadata": {
        "id": "6xXNG5X7RP2M"
      },
      "outputs": [],
      "source": [
        "#  Add bias to our variational classifier\n",
        "def variational_classifier(weights, bias, x):\n",
        "    return circuit(weights, x) + bias"
      ]
    },
    {
      "cell_type": "markdown",
      "metadata": {
        "id": "BneXAN95RoqT"
      },
      "source": [
        "## The Cost Function"
      ]
    },
    {
      "cell_type": "markdown",
      "metadata": {
        "id": "qrQl2zikGPfH"
      },
      "source": [
        "In supervised learning, the cost function typically combines a loss function with a regularization term. For simplicity, we will focus on the standard squared loss function, which evaluates how far the model's predictions are from the true target labels."
      ]
    },
    {
      "cell_type": "code",
      "execution_count": 24,
      "metadata": {
        "id": "3tSTsa0HSeGp"
      },
      "outputs": [],
      "source": [
        "# Define square loss function\n",
        "def square_loss(labels, predictions):\n",
        "    # Call qml.math.stack to allow subtracting the arrays directly\n",
        "    return np.mean((labels - qml.math.stack(predictions)) ** 2)"
      ]
    },
    {
      "cell_type": "markdown",
      "metadata": {
        "id": "SHH7q4c1SllV"
      },
      "source": [
        "Additionally, to evaluate the performance of the classifier, we use accuracy, which measures the percentage of predictions that match the true target labels. Accuracy provides a straightforward metric for assessing how often the classifier correctly identifies the correct class.\n",
        "\n"
      ]
    },
    {
      "cell_type": "code",
      "execution_count": 25,
      "metadata": {
        "id": "ZDe42tWzSm-7"
      },
      "outputs": [],
      "source": [
        "# Define accuracy function to calculate difference between labels and model's predictions\n",
        "def accuracy(labels, predictions):\n",
        "    acc = sum(abs(l - p) < 1e-5 for l, p in zip(labels, predictions))\n",
        "    acc = acc / len(labels)\n",
        "    return acc"
      ]
    },
    {
      "cell_type": "markdown",
      "metadata": {
        "id": "il-6bC_rTEzV"
      },
      "source": [
        "During the training of our model, the cost function's computation hinges on the specific data used—namely, the features and labels that are processed in each optimization iteration."
      ]
    },
    {
      "cell_type": "code",
      "execution_count": 26,
      "metadata": {
        "id": "W93rnlFzTEPy"
      },
      "outputs": [],
      "source": [
        "# Define cost function\n",
        "def cost(weights, bias, X, Y):\n",
        "    predictions = [variational_classifier(weights, bias, x) for x in X]\n",
        "    return square_loss(Y, predictions)"
      ]
    },
    {
      "cell_type": "markdown",
      "metadata": {
        "id": "xry1AdmWTr9V"
      },
      "source": [
        "##Optimization"
      ]
    },
    {
      "cell_type": "markdown",
      "metadata": {
        "id": "csqqqLOHT3PO"
      },
      "source": [
        "Reminder: as mentioned at the beginning of this notebook, the necessary data (the parity dataset's train and test sets) can be found under \"variational_classifier/data\", which is also in this repo."
      ]
    },
    {
      "cell_type": "code",
      "source": [
        "data = np.loadtxt(\"variational_classifier/data/parity_train.txt\", dtype=int)\n",
        "X = np.array(data[:, :-1])\n",
        "Y = np.array(data[:, -1])\n",
        "Y = Y * 2 - 1  # shift label from {0, 1} to {-1, 1}\n",
        "\n",
        "for x,y in zip(X, Y):\n",
        "    print(f\"x = {x}, y = {y}\")"
      ],
      "metadata": {
        "id": "3eQ5aCmNqDV6",
        "colab": {
          "base_uri": "https://localhost:8080/"
        },
        "outputId": "ef282999-e46d-4878-9466-8b289c42a417"
      },
      "execution_count": 36,
      "outputs": [
        {
          "output_type": "stream",
          "name": "stdout",
          "text": [
            "x = [0 0 0 1], y = 1\n",
            "x = [0 0 1 0], y = 1\n",
            "x = [0 1 0 0], y = 1\n",
            "x = [0 1 0 1], y = -1\n",
            "x = [0 1 1 0], y = -1\n",
            "x = [0 1 1 1], y = 1\n",
            "x = [1 0 0 0], y = 1\n",
            "x = [1 0 0 1], y = -1\n",
            "x = [1 0 1 1], y = 1\n",
            "x = [1 1 1 1], y = -1\n"
          ]
        }
      ]
    },
    {
      "cell_type": "markdown",
      "metadata": {
        "id": "h2Y2kGEKUpfg"
      },
      "source": [
        "We initialize the variables randomly but fix a seed for reproducibility."
      ]
    },
    {
      "cell_type": "code",
      "execution_count": 37,
      "metadata": {
        "colab": {
          "base_uri": "https://localhost:8080/"
        },
        "id": "5DJ0eNUhUsWh",
        "outputId": "11c8d2bf-2d68-4488-a9ef-29d182f8a467"
      },
      "outputs": [
        {
          "output_type": "stream",
          "name": "stdout",
          "text": [
            "Weights: [[[ 0.01764052  0.00400157  0.00978738]\n",
            "  [ 0.02240893  0.01867558 -0.00977278]\n",
            "  [ 0.00950088 -0.00151357 -0.00103219]\n",
            "  [ 0.00410599  0.00144044  0.01454274]]\n",
            "\n",
            " [[ 0.00761038  0.00121675  0.00443863]\n",
            "  [ 0.00333674  0.01494079 -0.00205158]\n",
            "  [ 0.00313068 -0.00854096 -0.0255299 ]\n",
            "  [ 0.00653619  0.00864436 -0.00742165]]]\n",
            "Bias:  0.0\n"
          ]
        }
      ],
      "source": [
        "# Set random seed\n",
        "np.random.seed(0)\n",
        "\n",
        "# Set up parameters\n",
        "num_qubits = 4\n",
        "num_layers = 2\n",
        "weights_init = 0.01 * np.random.randn(num_layers, num_qubits, 3, requires_grad=True)\n",
        "bias_init = np.array(0.0, requires_grad=True)\n",
        "\n",
        "print(\"Weights:\", weights_init)\n",
        "print(\"Bias: \", bias_init)"
      ]
    },
    {
      "cell_type": "markdown",
      "metadata": {
        "id": "WDCHHYfhU3LK"
      },
      "source": [
        "Then  we  need to create an optimizer instance and choose a batch size. (The optimizer we choose and the batch size are parameters that we can also change if we want to test other variations of our model.)"
      ]
    },
    {
      "cell_type": "code",
      "execution_count": 38,
      "metadata": {
        "id": "5wjrOY62U8-v"
      },
      "outputs": [],
      "source": [
        "opt = NesterovMomentumOptimizer(0.5)\n",
        "batch_size = 5"
      ]
    },
    {
      "cell_type": "markdown",
      "metadata": {
        "id": "64h52TgVVARM"
      },
      "source": [
        "Run the optimizer to train the model and track the accuracy. (Outputs of the variational classifier are converted to predictions in {-1,1} by taking the sign of the output.)\n"
      ]
    },
    {
      "cell_type": "code",
      "source": [
        "# Initialize weights and bias\n",
        "weights = weights_init\n",
        "bias = bias_init\n",
        "\n",
        "# Iterate 100 times, updating weights in addition to computing cost and accuracy\n",
        "for it in range(100):\n",
        "\n",
        "    # Update the weights by one optimizer step, using only a limited batch of data\n",
        "    batch_index = np.random.randint(0, len(X), (batch_size,))\n",
        "    X_batch = X[batch_index]\n",
        "    Y_batch = Y[batch_index]\n",
        "    weights, bias = opt.step(cost, weights, bias, X=X_batch, Y=Y_batch)\n",
        "\n",
        "    # Compute accuracy\n",
        "    predictions = [np.sign(variational_classifier(weights, bias, x)) for x in X]\n",
        "    current_cost = cost(weights, bias, X, Y)\n",
        "    acc = accuracy(Y, predictions)\n",
        "\n",
        "    print(f\"Iter: {it+1:4d} | Cost: {current_cost:0.7f} | Accuracy: {acc:0.7f}\")"
      ],
      "metadata": {
        "id": "tqgHhLWkhB2_",
        "colab": {
          "base_uri": "https://localhost:8080/"
        },
        "outputId": "53ce1e6e-c8b9-4130-853d-dd2487985b0d"
      },
      "execution_count": 39,
      "outputs": [
        {
          "output_type": "stream",
          "name": "stdout",
          "text": [
            "Iter:    1 | Cost: 2.3147651 | Accuracy: 0.5000000\n",
            "Iter:    2 | Cost: 1.9664866 | Accuracy: 0.5000000\n",
            "Iter:    3 | Cost: 1.9208589 | Accuracy: 0.5000000\n",
            "Iter:    4 | Cost: 2.6276126 | Accuracy: 0.5000000\n",
            "Iter:    5 | Cost: 0.9323119 | Accuracy: 0.6000000\n",
            "Iter:    6 | Cost: 1.1903549 | Accuracy: 0.5000000\n",
            "Iter:    7 | Cost: 2.0508989 | Accuracy: 0.4000000\n",
            "Iter:    8 | Cost: 1.1275531 | Accuracy: 0.6000000\n",
            "Iter:    9 | Cost: 1.1659803 | Accuracy: 0.6000000\n",
            "Iter:   10 | Cost: 1.1349618 | Accuracy: 0.6000000\n",
            "Iter:   11 | Cost: 0.9994063 | Accuracy: 0.6000000\n",
            "Iter:   12 | Cost: 1.0812559 | Accuracy: 0.6000000\n",
            "Iter:   13 | Cost: 1.2863155 | Accuracy: 0.6000000\n",
            "Iter:   14 | Cost: 2.2658259 | Accuracy: 0.4000000\n",
            "Iter:   15 | Cost: 1.1323724 | Accuracy: 0.6000000\n",
            "Iter:   16 | Cost: 1.3439737 | Accuracy: 0.8000000\n",
            "Iter:   17 | Cost: 2.0076168 | Accuracy: 0.6000000\n",
            "Iter:   18 | Cost: 1.2685760 | Accuracy: 0.5000000\n",
            "Iter:   19 | Cost: 1.6762475 | Accuracy: 0.5000000\n",
            "Iter:   20 | Cost: 1.1868237 | Accuracy: 0.6000000\n",
            "Iter:   21 | Cost: 1.4784687 | Accuracy: 0.6000000\n",
            "Iter:   22 | Cost: 1.4599473 | Accuracy: 0.6000000\n",
            "Iter:   23 | Cost: 0.9573269 | Accuracy: 0.6000000\n",
            "Iter:   24 | Cost: 1.1657424 | Accuracy: 0.5000000\n",
            "Iter:   25 | Cost: 1.0877087 | Accuracy: 0.4000000\n",
            "Iter:   26 | Cost: 1.1683687 | Accuracy: 0.6000000\n",
            "Iter:   27 | Cost: 2.1141689 | Accuracy: 0.6000000\n",
            "Iter:   28 | Cost: 1.0272966 | Accuracy: 0.5000000\n",
            "Iter:   29 | Cost: 0.9664085 | Accuracy: 0.5000000\n",
            "Iter:   30 | Cost: 1.1287654 | Accuracy: 0.6000000\n",
            "Iter:   31 | Cost: 1.4202360 | Accuracy: 0.4000000\n",
            "Iter:   32 | Cost: 1.1286000 | Accuracy: 0.5000000\n",
            "Iter:   33 | Cost: 1.9594333 | Accuracy: 0.4000000\n",
            "Iter:   34 | Cost: 1.2811832 | Accuracy: 0.4000000\n",
            "Iter:   35 | Cost: 0.8522775 | Accuracy: 0.7000000\n",
            "Iter:   36 | Cost: 1.4765281 | Accuracy: 0.6000000\n",
            "Iter:   37 | Cost: 0.9603287 | Accuracy: 0.6000000\n",
            "Iter:   38 | Cost: 1.6031314 | Accuracy: 0.6000000\n",
            "Iter:   39 | Cost: 1.1700888 | Accuracy: 0.4000000\n",
            "Iter:   40 | Cost: 1.7571779 | Accuracy: 0.4000000\n",
            "Iter:   41 | Cost: 1.9608116 | Accuracy: 0.6000000\n",
            "Iter:   42 | Cost: 2.0802752 | Accuracy: 0.6000000\n",
            "Iter:   43 | Cost: 1.1904884 | Accuracy: 0.3000000\n",
            "Iter:   44 | Cost: 0.9941585 | Accuracy: 0.6000000\n",
            "Iter:   45 | Cost: 1.0709609 | Accuracy: 0.5000000\n",
            "Iter:   46 | Cost: 0.9780625 | Accuracy: 0.6000000\n",
            "Iter:   47 | Cost: 1.1573709 | Accuracy: 0.6000000\n",
            "Iter:   48 | Cost: 1.0235239 | Accuracy: 0.6000000\n",
            "Iter:   49 | Cost: 1.2842469 | Accuracy: 0.5000000\n",
            "Iter:   50 | Cost: 0.8549226 | Accuracy: 0.6000000\n",
            "Iter:   51 | Cost: 0.5136787 | Accuracy: 1.0000000\n",
            "Iter:   52 | Cost: 0.2488031 | Accuracy: 1.0000000\n",
            "Iter:   53 | Cost: 0.0461277 | Accuracy: 1.0000000\n",
            "Iter:   54 | Cost: 0.0293518 | Accuracy: 1.0000000\n",
            "Iter:   55 | Cost: 0.0205454 | Accuracy: 1.0000000\n",
            "Iter:   56 | Cost: 0.0352514 | Accuracy: 1.0000000\n",
            "Iter:   57 | Cost: 0.0576767 | Accuracy: 1.0000000\n",
            "Iter:   58 | Cost: 0.0291305 | Accuracy: 1.0000000\n",
            "Iter:   59 | Cost: 0.0127137 | Accuracy: 1.0000000\n",
            "Iter:   60 | Cost: 0.0058108 | Accuracy: 1.0000000\n",
            "Iter:   61 | Cost: 0.0018002 | Accuracy: 1.0000000\n",
            "Iter:   62 | Cost: 0.0014089 | Accuracy: 1.0000000\n",
            "Iter:   63 | Cost: 0.0017489 | Accuracy: 1.0000000\n",
            "Iter:   64 | Cost: 0.0021282 | Accuracy: 1.0000000\n",
            "Iter:   65 | Cost: 0.0029876 | Accuracy: 1.0000000\n",
            "Iter:   66 | Cost: 0.0035331 | Accuracy: 1.0000000\n",
            "Iter:   67 | Cost: 0.0035540 | Accuracy: 1.0000000\n",
            "Iter:   68 | Cost: 0.0025639 | Accuracy: 1.0000000\n",
            "Iter:   69 | Cost: 0.0019459 | Accuracy: 1.0000000\n",
            "Iter:   70 | Cost: 0.0015856 | Accuracy: 1.0000000\n",
            "Iter:   71 | Cost: 0.0008439 | Accuracy: 1.0000000\n",
            "Iter:   72 | Cost: 0.0005960 | Accuracy: 1.0000000\n",
            "Iter:   73 | Cost: 0.0003122 | Accuracy: 1.0000000\n",
            "Iter:   74 | Cost: 0.0002446 | Accuracy: 1.0000000\n",
            "Iter:   75 | Cost: 0.0001745 | Accuracy: 1.0000000\n",
            "Iter:   76 | Cost: 0.0001215 | Accuracy: 1.0000000\n",
            "Iter:   77 | Cost: 0.0001141 | Accuracy: 1.0000000\n",
            "Iter:   78 | Cost: 0.0001538 | Accuracy: 1.0000000\n",
            "Iter:   79 | Cost: 0.0001871 | Accuracy: 1.0000000\n",
            "Iter:   80 | Cost: 0.0001330 | Accuracy: 1.0000000\n",
            "Iter:   81 | Cost: 0.0001380 | Accuracy: 1.0000000\n",
            "Iter:   82 | Cost: 0.0001336 | Accuracy: 1.0000000\n",
            "Iter:   83 | Cost: 0.0001483 | Accuracy: 1.0000000\n",
            "Iter:   84 | Cost: 0.0001234 | Accuracy: 1.0000000\n",
            "Iter:   85 | Cost: 0.0001359 | Accuracy: 1.0000000\n",
            "Iter:   86 | Cost: 0.0001268 | Accuracy: 1.0000000\n",
            "Iter:   87 | Cost: 0.0002270 | Accuracy: 1.0000000\n",
            "Iter:   88 | Cost: 0.0000865 | Accuracy: 1.0000000\n",
            "Iter:   89 | Cost: 0.0000774 | Accuracy: 1.0000000\n",
            "Iter:   90 | Cost: 0.0000759 | Accuracy: 1.0000000\n",
            "Iter:   91 | Cost: 0.0000607 | Accuracy: 1.0000000\n",
            "Iter:   92 | Cost: 0.0000523 | Accuracy: 1.0000000\n",
            "Iter:   93 | Cost: 0.0000536 | Accuracy: 1.0000000\n",
            "Iter:   94 | Cost: 0.0000444 | Accuracy: 1.0000000\n",
            "Iter:   95 | Cost: 0.0000384 | Accuracy: 1.0000000\n",
            "Iter:   96 | Cost: 0.0000497 | Accuracy: 1.0000000\n",
            "Iter:   97 | Cost: 0.0000263 | Accuracy: 1.0000000\n",
            "Iter:   98 | Cost: 0.0000229 | Accuracy: 1.0000000\n",
            "Iter:   99 | Cost: 0.0000339 | Accuracy: 1.0000000\n",
            "Iter:  100 | Cost: 0.0000174 | Accuracy: 1.0000000\n"
          ]
        }
      ]
    },
    {
      "cell_type": "markdown",
      "source": [
        "We can see that over time (around Iteration #51), the model learned to correctly classify the bitstrings in the training set. This is great, but we want to ensure that our model can generalize well when it comes to new data, instead of fitting the training set perfectly but being unable to accurately predict an output from unseen data.\n",
        "\n",
        "With this in mind, let's evaluate the performance of our classifier on a separate test set of examples that were not used during training. This will give us a better understanding of how well our model can generalize to new, unseen data."
      ],
      "metadata": {
        "id": "sGjvuAilhHKB"
      }
    },
    {
      "cell_type": "code",
      "source": [
        "# Load in test data that model was not trained on\n",
        "data = np.loadtxt(\"variational_classifier/data/parity_test.txt\", dtype=int)\n",
        "X_test = np.array(data[:, :-1])\n",
        "Y_test = np.array(data[:, -1])\n",
        "Y_test = Y_test * 2 - 1  # shift label from {0, 1} to {-1, 1}\n",
        "\n",
        "# Make predictions on test data\n",
        "predictions_test = [np.sign(variational_classifier(weights, bias, x)) for x in X_test]\n",
        "\n",
        "for x,y,p in zip(X_test, Y_test, predictions_test):\n",
        "    print(f\"x = {x}, y = {y}, pred={p}\")\n",
        "\n",
        "# Compute accuracy\n",
        "acc_test = accuracy(Y_test, predictions_test)\n",
        "print(\"Accuracy on unseen data:\", acc_test)"
      ],
      "metadata": {
        "id": "dnyiGmqdhgM9",
        "colab": {
          "base_uri": "https://localhost:8080/"
        },
        "outputId": "1e3bc6b7-2dfc-4eaf-ed65-0a71e0c52e64"
      },
      "execution_count": 40,
      "outputs": [
        {
          "output_type": "stream",
          "name": "stdout",
          "text": [
            "x = [0 0 0 0], y = -1, pred=-1.0\n",
            "x = [0 0 1 1], y = -1, pred=-1.0\n",
            "x = [1 0 1 0], y = -1, pred=-1.0\n",
            "x = [1 1 1 0], y = 1, pred=1.0\n",
            "x = [1 1 0 0], y = -1, pred=-1.0\n",
            "x = [1 1 0 1], y = 1, pred=1.0\n",
            "Accuracy on unseen data: 1.0\n"
          ]
        }
      ]
    },
    {
      "cell_type": "markdown",
      "source": [
        "Not only can our model make accurate predictions on our training data, but it can also generalize well when it comes to unseen data.\n",
        "\n",
        "The encoding strategy used in this tutorial actually creates quantum states from data with no overlap, and so the states created from the test set also have no overlap with the training dataset's states. The variational circuit can learn many functional relations from this kind of representation, but our classifier labels bitstrings according to the parity function, our ground truth.\n",
        "\n",
        "Now that we've seen what variational circuits can do in our example above, for our next example, we want to test out a different encoding strategy."
      ],
      "metadata": {
        "id": "AHaXq3a4FaVe"
      }
    },
    {
      "cell_type": "markdown",
      "source": [
        "##2. Iris classification"
      ],
      "metadata": {
        "id": "3vGUR-rBh1vi"
      }
    },
    {
      "cell_type": "markdown",
      "source": [
        "We're now going to tackle a more complex classification task using the Iris dataset, where each data point is represented as a 2-dimensional real-valued vector. To prepare this data for our quantum classifier, we'll add some \"latent dimensions\" to the vectors, allowing us to encode the inputs into a 2-qubit quantum state. This will enable us to explore the capabilities of our variational quantum classifier on a more realistic dataset."
      ],
      "metadata": {
        "id": "Vfkj9i5PiTxM"
      }
    },
    {
      "cell_type": "markdown",
      "source": [
        "##Quantum and classical nodes"
      ],
      "metadata": {
        "id": "wMVlgxz9iqcu"
      }
    },
    {
      "cell_type": "markdown",
      "source": [
        "**State Preparation for Real-Valued Vectors**\n",
        "\n",
        "When working with real-valued vectors, state preparation becomes more intricate compared to representing bitstrings with basis states. Each input x needs to be translated into a set of angles, which are then fed into a small routine for state preparation. To simplify this process, we'll focus on data from the positive subspace, allowing us to ignore signs and avoid additional rotations around the Z-axis."
      ],
      "metadata": {
        "id": "nGxHWA_6jNST"
      }
    },
    {
      "cell_type": "markdown",
      "source": [
        "**Circuit Implementation**\n",
        "\n",
        "Our circuit is implemented based on the scheme outlined in Möttönen et al. (2004) and Schuld and Petruccione (2018), which is adapted for positive vectors only. Additionally, we've decomposed controlled Y-axis rotations into more basic gates, following the approach described in Nielsen and Chuang (2010)."
      ],
      "metadata": {
        "id": "0qZ6oXjZjaLM"
      }
    },
    {
      "cell_type": "code",
      "source": [
        "# Define the function to calculate angles used\n",
        "def get_angles(x):\n",
        "    beta0 = 2 * np.arcsin(np.sqrt(x[1] ** 2) / np.sqrt(x[0] ** 2 + x[1] ** 2 + 1e-12))\n",
        "    beta1 = 2 * np.arcsin(np.sqrt(x[3] ** 2) / np.sqrt(x[2] ** 2 + x[3] ** 2 + 1e-12))\n",
        "    beta2 = 2 * np.arcsin(np.linalg.norm(x[2:]) / np.linalg.norm(x))\n",
        "\n",
        "    return np.array([beta2, -beta1 / 2, beta1 / 2, -beta0 / 2, beta0 / 2])\n",
        "\n",
        "# Prepare states by applying the gates below to the specified qubits\n",
        "def state_preparation(a):\n",
        "    qml.RY(a[0], wires=0)\n",
        "\n",
        "    qml.CNOT(wires=[0, 1])\n",
        "    qml.RY(a[1], wires=1)\n",
        "    qml.CNOT(wires=[0, 1])\n",
        "    qml.RY(a[2], wires=1)\n",
        "\n",
        "    qml.PauliX(wires=0)\n",
        "    qml.CNOT(wires=[0, 1])\n",
        "    qml.RY(a[3], wires=1)\n",
        "    qml.CNOT(wires=[0, 1])\n",
        "    qml.RY(a[4], wires=1)\n",
        "    qml.PauliX(wires=0)"
      ],
      "metadata": {
        "id": "ygwf3xkJjhvq"
      },
      "execution_count": 41,
      "outputs": []
    },
    {
      "cell_type": "markdown",
      "source": [
        "Now we want to test our encoding routine to ensure it works."
      ],
      "metadata": {
        "id": "cwJoAYC2jnns"
      }
    },
    {
      "cell_type": "code",
      "source": [
        "# Array for test input\n",
        "x = np.array([0.53896774, 0.79503606, 0.27826503, 0.0], requires_grad=False)\n",
        "ang = get_angles(x)\n",
        "\n",
        "# Defining our test function to apply our state preparation to the angles specified\n",
        "@qml.qnode(dev)\n",
        "def test(angles):\n",
        "    state_preparation(angles)\n",
        "\n",
        "    return qml.state()\n",
        "\n",
        "# Running the function on our small test input\n",
        "state = test(ang)\n",
        "\n",
        "print(\"x               : \", np.round(x, 6))\n",
        "print(\"angles          : \", np.round(ang, 6))\n",
        "print(\"amplitude vector: \", np.round(np.real(state), 6))"
      ],
      "metadata": {
        "id": "IgImkLC6jsul",
        "colab": {
          "base_uri": "https://localhost:8080/"
        },
        "outputId": "520605e2-ecf5-4fa2-9826-0f6e1260c04b"
      },
      "execution_count": 42,
      "outputs": [
        {
          "output_type": "stream",
          "name": "stdout",
          "text": [
            "x               :  [0.538968 0.795036 0.278265 0.      ]\n",
            "angles          :  [ 0.563975 -0.        0.       -0.975046  0.975046]\n",
            "amplitude vector:  [ 0.538968  0.        0.        0.        0.795036  0.        0.\n",
            "  0.        0.278265  0.        0.        0.       -0.        0.\n",
            "  0.        0.      ]\n"
          ]
        }
      ]
    },
    {
      "cell_type": "markdown",
      "source": [
        "Our encoding method correctly prepared the desired state by computing the correct angles and applying the specified gates."
      ],
      "metadata": {
        "id": "wnLZpkUfIE26"
      }
    },
    {
      "cell_type": "markdown",
      "source": [
        "***Important note from PennyLane*** :\n",
        "\"The default.qubit simulator provides a shortcut to state_preparation with the command qml.StatePrep(x, wires=[0, 1]). On state simulators, this just replaces the quantum state with our (normalized) input. On hardware, the operation implements more sophisticated versions of the routine used above.\""
      ],
      "metadata": {
        "id": "BsjSZoUZIk_A"
      }
    },
    {
      "cell_type": "markdown",
      "source": [
        "Now that we're working with 2-qubit circuits, we need to modify the layer and cost functions to accommodate this change. This update will ensure that our variational quantum circuit is tailored to the new 2-qubit architecture."
      ],
      "metadata": {
        "id": "OVmZf696j5EQ"
      }
    },
    {
      "cell_type": "code",
      "source": [
        "# Define the layers by applying rotations dependent upon weight inputs\n",
        "def layer(layer_weights):\n",
        "    for wire in range(2):\n",
        "        qml.Rot(*layer_weights[wire], wires=wire)\n",
        "    qml.CNOT(wires=[0, 1])\n",
        "\n",
        "# Define the cost function by which we'll score our level of success\n",
        "def cost(weights, bias, X, Y):\n",
        "    # Transpose the batch of input data in order to make the indexing in state_preparation work\n",
        "    predictions = variational_classifier(weights, bias, X.T)\n",
        "    return square_loss(Y, predictions)"
      ],
      "metadata": {
        "id": "_tQ5wfEJkDaN"
      },
      "execution_count": 43,
      "outputs": []
    },
    {
      "cell_type": "markdown",
      "source": [
        "##The data"
      ],
      "metadata": {
        "id": "DuY_eP-MkJH0"
      }
    },
    {
      "cell_type": "markdown",
      "source": [
        "**Preparing the Iris Dataset**\n",
        "\n",
        "We load the Iris dataset and preprocess it for our quantum classifier. This involves:\n",
        "* Adding two \"latent dimensions\" to each data point to match the quantum state vector size\n",
        "* Normalizing the data to prevent feature dominance\n",
        "* Converting inputs to rotation angles using the \"get_angles\" function\n",
        "\n",
        "Always keep in mind the problem you are trying to solve before you begin preprocessing. In this case, by omitting the addition of latent dimensions, normalization of our vectors would erase important information about the length of the vectors. As a result, classes that would normally be separated by this feature will be indistinguishable from other classes.\n",
        "\n",
        "Remember: You can find the Iris dataset in the \"variational_classifer/data\" subfolder that we've added to this repo for you."
      ],
      "metadata": {
        "id": "H9aV80-vkOH8"
      }
    },
    {
      "cell_type": "code",
      "source": [
        "# Load in Iris data\n",
        "data = np.loadtxt(\"variational_classifier/data/iris_classes1and2_scaled.txt\")\n",
        "X = data[:, 0:2]\n",
        "print(f\"First X sample (original)  : {X[0]}\")\n",
        "\n",
        "# Pad the vectors to size 2^2=4 with constant values\n",
        "padding = np.ones((len(X), 2)) * 0.1\n",
        "X_pad = np.c_[X, padding]\n",
        "print(f\"First X sample (padded)    : {X_pad[0]}\")\n",
        "\n",
        "# Normalize each input\n",
        "normalization = np.sqrt(np.sum(X_pad**2, -1))\n",
        "X_norm = (X_pad.T / normalization).T\n",
        "print(f\"First X sample (normalized): {X_norm[0]}\")\n",
        "\n",
        "# The angles for state preparation are the features\n",
        "features = np.array([get_angles(x) for x in X_norm], requires_grad=False)\n",
        "print(f\"First features sample      : {features[0]}\")\n",
        "\n",
        "Y = data[:, -1]"
      ],
      "metadata": {
        "id": "1fLT_CjUlDOb",
        "colab": {
          "base_uri": "https://localhost:8080/"
        },
        "outputId": "23ed3fe0-4b40-4bf6-8fa6-5d8454cebca0"
      },
      "execution_count": 45,
      "outputs": [
        {
          "output_type": "stream",
          "name": "stdout",
          "text": [
            "First X sample (original)  : [0.4  0.75]\n",
            "First X sample (padded)    : [0.4  0.75 0.1  0.1 ]\n",
            "First X sample (normalized): [0.46420708 0.87038828 0.11605177 0.11605177]\n",
            "First features sample      : [ 0.32973573 -0.78539816  0.78539816 -1.080839    1.080839  ]\n"
          ]
        }
      ]
    },
    {
      "cell_type": "markdown",
      "source": [
        "We've transformed the original data into a new set of features, represented as angles. That's why we've renamed the input data X to \"features\". Now, let's visualize the preprocessing steps and experiment with different dimension combinations (like \"dim1\" and \"dim2\"). We'll see that some of these new features still effectively distinguish between classes, while others are less useful for classification."
      ],
      "metadata": {
        "id": "lquJSeCzmP8-"
      }
    },
    {
      "cell_type": "code",
      "source": [
        "# Scatter plot of original data\n",
        "plt.figure()\n",
        "plt.scatter(X[:, 0][Y == 1], X[:, 1][Y == 1], c=\"b\", marker=\"o\", ec=\"k\")\n",
        "plt.scatter(X[:, 0][Y == -1], X[:, 1][Y == -1], c=\"r\", marker=\"o\", ec=\"k\")\n",
        "plt.title(\"Original data\")\n",
        "plt.show()\n",
        "\n",
        "# Scatter plot of padded and normalized data\n",
        "plt.figure()\n",
        "dim1 = 0\n",
        "dim2 = 1\n",
        "plt.scatter(X_norm[:, dim1][Y == 1], X_norm[:, dim2][Y == 1], c=\"b\", marker=\"o\", ec=\"k\")\n",
        "plt.scatter(X_norm[:, dim1][Y == -1], X_norm[:, dim2][Y == -1], c=\"r\", marker=\"o\", ec=\"k\")\n",
        "plt.title(f\"Padded and normalised data (dims {dim1} and {dim2})\")\n",
        "plt.show()\n",
        "\n",
        "# Scatter plot of the feature vectors\n",
        "plt.figure()\n",
        "dim1 = 0\n",
        "dim2 = 3\n",
        "plt.scatter(features[:, dim1][Y == 1], features[:, dim2][Y == 1], c=\"b\", marker=\"o\", ec=\"k\")\n",
        "plt.scatter(features[:, dim1][Y == -1], features[:, dim2][Y == -1], c=\"r\", marker=\"o\", ec=\"k\")\n",
        "plt.title(f\"Feature vectors (dims {dim1} and {dim2})\")\n",
        "plt.show()"
      ],
      "metadata": {
        "id": "rkaXAWt-jMMc",
        "colab": {
          "base_uri": "https://localhost:8080/",
          "height": 1000
        },
        "outputId": "a388c06e-6456-4151-9420-cf1c13197251"
      },
      "execution_count": 46,
      "outputs": [
        {
          "output_type": "display_data",
          "data": {
            "text/plain": [
              "<Figure size 640x480 with 1 Axes>"
            ],
            "image/png": "[encoded data removed]"
          },
          "metadata": {}
        },
        {
          "output_type": "display_data",
          "data": {
            "text/plain": [
              "<Figure size 640x480 with 1 Axes>"
            ],
            "image/png": "[encoded data removed]"
          },
          "metadata": {}
        },
        {
          "output_type": "display_data",
          "data": {
            "text/plain": [
              "<Figure size 640x480 with 1 Axes>"
            ],
            "image/png": "[encoded data removed]"
          },
          "metadata": {}
        }
      ]
    },
    {
      "cell_type": "markdown",
      "source": [
        "Now, we want to take our model to the next level by enabling it to make predictions on unseen data. To achieve this, we'll train our model on one dataset and evaluate its performance on a separate dataset that it hasn't seen before. This is known as generalization. To keep track of how well our model generalizes, we'll divide our data into two subsets: a training set for model training and a validation set for performance monitoring."
      ],
      "metadata": {
        "id": "AkI-2MGrmmU3"
      }
    },
    {
      "cell_type": "code",
      "source": [
        "# Set random seed for reproducibility\n",
        "np.random.seed(0)\n",
        "\n",
        "num_data = len(Y)\n",
        "num_train = int(0.75 * num_data)\n",
        "index = np.random.permutation(range(num_data))\n",
        "feats_train = features[index[:num_train]]\n",
        "Y_train = Y[index[:num_train]]\n",
        "feats_val = features[index[num_train:]]\n",
        "Y_val = Y[index[num_train:]]\n",
        "\n",
        "# Training and validation data that we'll use later for plotting\n",
        "X_train = X[index[:num_train]]\n",
        "X_val = X[index[num_train:]]"
      ],
      "metadata": {
        "id": "ExIIuRbUm0Ud"
      },
      "execution_count": 47,
      "outputs": []
    },
    {
      "cell_type": "markdown",
      "source": [
        "**Optimization**\n",
        "\n",
        "First, we initialize the variables."
      ],
      "metadata": {
        "id": "1C9XdsLIm9g3"
      }
    },
    {
      "cell_type": "code",
      "source": [
        "# Initialize width and number of layers\n",
        "num_qubits = 2\n",
        "num_layers = 6\n",
        "\n",
        "# Initialize weights and bias\n",
        "weights_init = 0.01 * np.random.randn(num_layers, num_qubits, 3, requires_grad=True)\n",
        "bias_init = np.array(0.0, requires_grad=True)"
      ],
      "metadata": {
        "id": "FOokq_KyMMS9"
      },
      "execution_count": 51,
      "outputs": []
    },
    {
      "cell_type": "markdown",
      "source": [
        "As before, we'll use the imported NesterovMomentumOptimizer to minimize the cost function."
      ],
      "metadata": {
        "id": "8ISYaWDhMace"
      }
    },
    {
      "cell_type": "code",
      "source": [
        "opt = NesterovMomentumOptimizer(0.01)\n",
        "batch_size = 5\n",
        "\n",
        "# train the variational classifier\n",
        "weights = weights_init\n",
        "bias = bias_init\n",
        "for it in range(60):\n",
        "    # Update the weights by one optimizer step\n",
        "    batch_index = np.random.randint(0, num_train, (batch_size,))\n",
        "    feats_train_batch = feats_train[batch_index]\n",
        "    Y_train_batch = Y_train[batch_index]\n",
        "    weights, bias, _, _ = opt.step(cost, weights, bias, feats_train_batch, Y_train_batch)\n",
        "\n",
        "    # Compute predictions on train and validation set\n",
        "    predictions_train = np.sign(variational_classifier(weights, bias, feats_train.T))\n",
        "    predictions_val = np.sign(variational_classifier(weights, bias, feats_val.T))\n",
        "\n",
        "    # Compute accuracy on train and validation set\n",
        "    acc_train = accuracy(Y_train, predictions_train)\n",
        "    acc_val = accuracy(Y_val, predictions_val)\n",
        "\n",
        "    if (it + 1) % 2 == 0:\n",
        "        _cost = cost(weights, bias, features, Y)\n",
        "        print(\n",
        "            f\"Iter: {it + 1:5d} | Cost: {_cost:0.7f} | \"\n",
        "            f\"Acc train: {acc_train:0.7f} | Acc validation: {acc_val:0.7f}\"\n",
        "        )"
      ],
      "metadata": {
        "id": "t-lgQxBqnCAn",
        "colab": {
          "base_uri": "https://localhost:8080/"
        },
        "outputId": "94659f3f-584f-42e7-e025-addcba149351"
      },
      "execution_count": 52,
      "outputs": [
        {
          "output_type": "stream",
          "name": "stdout",
          "text": [
            "Iter:     2 | Cost: 1.7368859 | Acc train: 0.4800000 | Acc validation: 0.5600000\n",
            "Iter:     4 | Cost: 1.3059771 | Acc train: 0.4933333 | Acc validation: 0.5600000\n",
            "Iter:     6 | Cost: 1.0127180 | Acc train: 0.4533333 | Acc validation: 0.5600000\n",
            "Iter:     8 | Cost: 0.9626724 | Acc train: 0.6266667 | Acc validation: 0.6000000\n",
            "Iter:    10 | Cost: 0.9504692 | Acc train: 0.6533333 | Acc validation: 0.6800000\n",
            "Iter:    12 | Cost: 0.9427522 | Acc train: 0.6266667 | Acc validation: 0.6400000\n",
            "Iter:    14 | Cost: 0.9271520 | Acc train: 0.5866667 | Acc validation: 0.5200000\n",
            "Iter:    16 | Cost: 0.8850338 | Acc train: 0.6933333 | Acc validation: 0.6400000\n",
            "Iter:    18 | Cost: 0.8584185 | Acc train: 0.8133333 | Acc validation: 0.9200000\n",
            "Iter:    20 | Cost: 0.8416633 | Acc train: 0.7866667 | Acc validation: 0.8000000\n",
            "Iter:    22 | Cost: 0.7904446 | Acc train: 0.8933333 | Acc validation: 0.9200000\n",
            "Iter:    24 | Cost: 0.7366709 | Acc train: 0.9066667 | Acc validation: 0.9200000\n",
            "Iter:    26 | Cost: 0.6796163 | Acc train: 0.9200000 | Acc validation: 0.9200000\n",
            "Iter:    28 | Cost: 0.6060515 | Acc train: 0.8933333 | Acc validation: 0.9200000\n",
            "Iter:    30 | Cost: 0.5279068 | Acc train: 0.9200000 | Acc validation: 0.9600000\n",
            "Iter:    32 | Cost: 0.4489558 | Acc train: 0.9333333 | Acc validation: 0.9600000\n",
            "Iter:    34 | Cost: 0.3845048 | Acc train: 0.9200000 | Acc validation: 0.9600000\n",
            "Iter:    36 | Cost: 0.3276941 | Acc train: 0.9600000 | Acc validation: 1.0000000\n",
            "Iter:    38 | Cost: 0.2747563 | Acc train: 1.0000000 | Acc validation: 1.0000000\n",
            "Iter:    40 | Cost: 0.2649404 | Acc train: 1.0000000 | Acc validation: 1.0000000\n",
            "Iter:    42 | Cost: 0.2701212 | Acc train: 1.0000000 | Acc validation: 1.0000000\n",
            "Iter:    44 | Cost: 0.3018971 | Acc train: 0.9600000 | Acc validation: 0.9200000\n",
            "Iter:    46 | Cost: 0.3144343 | Acc train: 0.9600000 | Acc validation: 0.9200000\n",
            "Iter:    48 | Cost: 0.3091637 | Acc train: 0.9466667 | Acc validation: 0.9200000\n",
            "Iter:    50 | Cost: 0.2947985 | Acc train: 0.9466667 | Acc validation: 0.9200000\n",
            "Iter:    52 | Cost: 0.2674866 | Acc train: 0.9600000 | Acc validation: 0.9200000\n",
            "Iter:    54 | Cost: 0.2336039 | Acc train: 1.0000000 | Acc validation: 1.0000000\n",
            "Iter:    56 | Cost: 0.2207270 | Acc train: 1.0000000 | Acc validation: 1.0000000\n",
            "Iter:    58 | Cost: 0.2161542 | Acc train: 1.0000000 | Acc validation: 1.0000000\n",
            "Iter:    60 | Cost: 0.2155840 | Acc train: 1.0000000 | Acc validation: 1.0000000\n"
          ]
        }
      ]
    },
    {
      "cell_type": "markdown",
      "source": [
        "Using the variational classifier, we can plot the continuous output for the first two dimensions of the Iris dataset."
      ],
      "metadata": {
        "id": "Pu0Kd0jwnHET"
      }
    },
    {
      "cell_type": "code",
      "source": [
        "plt.figure()\n",
        "cm = plt.cm.RdBu\n",
        "\n",
        "# Make data for decision regions\n",
        "xx, yy = np.meshgrid(np.linspace(0.0, 1.5, 30), np.linspace(0.0, 1.5, 30))\n",
        "X_grid = [np.array([x, y]) for x, y in zip(xx.flatten(), yy.flatten())]\n",
        "\n",
        "# Preprocess grid points like data inputs above\n",
        "padding = 0.1 * np.ones((len(X_grid), 2))\n",
        "X_grid = np.c_[X_grid, padding]  # pad each input\n",
        "normalization = np.sqrt(np.sum(X_grid**2, -1))\n",
        "X_grid = (X_grid.T / normalization).T  # normalize each input\n",
        "features_grid = np.array([get_angles(x) for x in X_grid])  # angles are new features\n",
        "predictions_grid = variational_classifier(weights, bias, features_grid.T)\n",
        "Z = np.reshape(predictions_grid, xx.shape)\n",
        "\n",
        "# Plot decision regions\n",
        "levels = np.arange(-1, 1.1, 0.1)\n",
        "cnt = plt.contourf(xx, yy, Z, levels=levels, cmap=cm, alpha=0.8, extend=\"both\")\n",
        "plt.contour(xx, yy, Z, levels=[0.0], colors=(\"black\",), linestyles=(\"--\",), linewidths=(0.8,))\n",
        "plt.colorbar(cnt, ticks=[-1, 0, 1])\n",
        "\n",
        "# Plot data\n",
        "for color, label in zip([\"b\", \"r\"], [1, -1]):\n",
        "    plot_x = X_train[:, 0][Y_train == label]\n",
        "    plot_y = X_train[:, 1][Y_train == label]\n",
        "    plt.scatter(plot_x, plot_y, c=color, marker=\"o\", ec=\"k\", label=f\"class {label} train\")\n",
        "    plot_x = (X_val[:, 0][Y_val == label],)\n",
        "    plot_y = (X_val[:, 1][Y_val == label],)\n",
        "    plt.scatter(plot_x, plot_y, c=color, marker=\"^\", ec=\"k\", label=f\"class {label} validation\")\n",
        "\n",
        "plt.legend()\n",
        "plt.show()"
      ],
      "metadata": {
        "id": "ZbdWXYwfnn6i",
        "colab": {
          "base_uri": "https://localhost:8080/",
          "height": 430
        },
        "outputId": "2e32bd86-f8b2-4f79-c4f6-747e388cfafc"
      },
      "execution_count": 53,
      "outputs": [
        {
          "output_type": "display_data",
          "data": {
            "text/plain": [
              "<Figure size 640x480 with 2 Axes>"
            ],
            "image/png": "[encoded data removed]"
          },
          "metadata": {}
        }
      ]
    }
  ],
  "metadata": {
    "colab": {
      "provenance": []
    },
    "kernelspec": {
      "display_name": "Python 3",
      "name": "python3"
    }
  },
  "nbformat": 4,
  "nbformat_minor": 0
}